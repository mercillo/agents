{
 "cells": [
  {
   "cell_type": "markdown",
   "metadata": {},
   "source": [
    "# From Judging to Synthesizing — Evolving Multi-Agent Patterns\n",
    "\n",
    "In the original 2_lab2.ipynb, we explored a powerful agentic design pattern: sending the same question to multiple large language models (LLMs), then using a separate “judge” agent to evaluate and rank their responses. This approach is valuable for identifying the single best answer among many, leveraging the strengths of ensemble reasoning and critical evaluation.\n",
    "\n",
    "However, selecting just one “winner” can leave valuable insights from other models untapped. To address this, I am shifting to a new agentic pattern in this notebook: the synthesizer/improver pattern. Instead of merely ranking responses, we will prompt a dedicated LLM to review all answers, extract the most compelling ideas from each, and synthesize them into a single, improved response. \n",
    "\n",
    "This approach aims to combine the collective intelligence of multiple models, producing an answer that is richer, more nuanced, and more robust than any individual response.\n"
   ]
  },
  {
   "cell_type": "code",
   "execution_count": 1,
   "metadata": {},
   "outputs": [],
   "source": [
    "import os\n",
    "import json\n",
    "from dotenv import load_dotenv\n",
    "from openai import OpenAI\n",
    "from anthropic import Anthropic\n",
    "from IPython.display import Markdown, display"
   ]
  },
  {
   "cell_type": "code",
   "execution_count": 2,
   "metadata": {},
   "outputs": [
    {
     "data": {
      "text/plain": [
       "True"
      ]
     },
     "execution_count": 2,
     "metadata": {},
     "output_type": "execute_result"
    }
   ],
   "source": [
    "load_dotenv(override=True)"
   ]
  },
  {
   "cell_type": "code",
   "execution_count": 3,
   "metadata": {},
   "outputs": [
    {
     "name": "stdout",
     "output_type": "stream",
     "text": [
      "OpenAI API Key exists and begins sk-proj-\n",
      "Anthropic API Key not set (and this is optional)\n",
      "Google API Key not set (and this is optional)\n",
      "DeepSeek API Key not set (and this is optional)\n",
      "Groq API Key not set (and this is optional)\n"
     ]
    }
   ],
   "source": [
    "# Print the key prefixes to help with any debugging\n",
    "\n",
    "openai_api_key = os.getenv('OPENAI_API_KEY')\n",
    "anthropic_api_key = os.getenv('ANTHROPIC_API_KEY')\n",
    "google_api_key = os.getenv('GOOGLE_API_KEY')\n",
    "deepseek_api_key = os.getenv('DEEPSEEK_API_KEY')\n",
    "groq_api_key = os.getenv('GROQ_API_KEY')\n",
    "\n",
    "if openai_api_key:\n",
    "    print(f\"OpenAI API Key exists and begins {openai_api_key[:8]}\")\n",
    "else:\n",
    "    print(\"OpenAI API Key not set\")\n",
    "    \n",
    "if anthropic_api_key:\n",
    "    print(f\"Anthropic API Key exists and begins {anthropic_api_key[:7]}\")\n",
    "else:\n",
    "    print(\"Anthropic API Key not set (and this is optional)\")\n",
    "\n",
    "if google_api_key:\n",
    "    print(f\"Google API Key exists and begins {google_api_key[:2]}\")\n",
    "else:\n",
    "    print(\"Google API Key not set (and this is optional)\")\n",
    "\n",
    "if deepseek_api_key:\n",
    "    print(f\"DeepSeek API Key exists and begins {deepseek_api_key[:3]}\")\n",
    "else:\n",
    "    print(\"DeepSeek API Key not set (and this is optional)\")\n",
    "\n",
    "if groq_api_key:\n",
    "    print(f\"Groq API Key exists and begins {groq_api_key[:4]}\")\n",
    "else:\n",
    "    print(\"Groq API Key not set (and this is optional)\")"
   ]
  },
  {
   "cell_type": "code",
   "execution_count": 4,
   "metadata": {},
   "outputs": [],
   "source": [
    "request = \"Please come up with a challenging, nuanced question that I can ask a number of LLMs to evaluate their collective intelligence. \"\n",
    "request += \"Answer only with the question, no explanation.\"\n",
    "messages = [{\"role\": \"user\", \"content\": request}]"
   ]
  },
  {
   "cell_type": "code",
   "execution_count": 5,
   "metadata": {},
   "outputs": [
    {
     "data": {
      "text/plain": [
       "[{'role': 'user',\n",
       "  'content': 'Please come up with a challenging, nuanced question that I can ask a number of LLMs to evaluate their collective intelligence. Answer only with the question, no explanation.'}]"
      ]
     },
     "execution_count": 5,
     "metadata": {},
     "output_type": "execute_result"
    }
   ],
   "source": [
    "messages"
   ]
  },
  {
   "cell_type": "code",
   "execution_count": 6,
   "metadata": {},
   "outputs": [
    {
     "name": "stdout",
     "output_type": "stream",
     "text": [
      "How can societies balance the ethical implications of AI advancements with the drive for innovation and economic growth, while ensuring equitable access and minimizing potential harms?\n"
     ]
    }
   ],
   "source": [
    "openai = OpenAI()\n",
    "response = openai.chat.completions.create(\n",
    "    model=\"gpt-4o-mini\",\n",
    "    messages=messages,\n",
    ")\n",
    "question = response.choices[0].message.content\n",
    "print(question)\n"
   ]
  },
  {
   "cell_type": "code",
   "execution_count": 7,
   "metadata": {},
   "outputs": [],
   "source": [
    "teammates = []\n",
    "answers = []\n",
    "messages = [{\"role\": \"user\", \"content\": question}]"
   ]
  },
  {
   "cell_type": "code",
   "execution_count": 8,
   "metadata": {},
   "outputs": [
    {
     "data": {
      "text/markdown": [
       "Balancing the ethical implications of AI advancements with innovation and economic growth, while ensuring equitable access and minimizing potential harms, requires a multifaceted approach. Here are several strategies that societies can adopt:\n",
       "\n",
       "1. **Framework for Ethical AI Development**:\n",
       "   - Establish clear ethical guidelines and frameworks for the development and deployment of AI technologies. This includes principles such as fairness, transparency, accountability, and respect for privacy.\n",
       "   - Encourage the involvement of ethicists, social scientists, and diverse stakeholders in the design and implementation of AI systems to ensure a variety of perspectives and values are considered.\n",
       "\n",
       "2. **Inclusive Stakeholder Engagement**:\n",
       "   - Create forums for public dialogue that include voices from various demographics, including marginalized communities, to ensure that AI advancements meet the needs of all citizens.\n",
       "   - Involve interdisciplinary teams in AI development, capturing insights from fields such as sociology, psychology, and law to guide ethical considerations.\n",
       "\n",
       "3. **Regulatory Frameworks and Policies**:\n",
       "   - Develop effective regulations and compliance mechanisms that hold companies accountable for the ethical implications of their AI technologies without stifling innovation.\n",
       "   - Implement policy measures that promote responsible AI use, such as data protection laws and guidelines for ethical AI design.\n",
       "\n",
       "4. **Equitable Access and Inclusion**:\n",
       "   - Ensure that AI technology is accessible to all segments of society, including small businesses, nonprofits, and underserved communities, to prevent widening the digital divide.\n",
       "   - Promote digital literacy programs to equip individuals with the skills needed to interact with AI technologies effectively.\n",
       "\n",
       "5. **Investment in Research and Development**:\n",
       "   - Encourage investments in R&D focused on ethical AI, including projects that explore societal impacts and applications that benefit the public good.\n",
       "   - Allocate funding for academic and non-profit organizations that prioritize research into the societal impacts of AI technologies and seek to develop equitable solutions.\n",
       "\n",
       "6. **Continuous Monitoring and Adaptation**:\n",
       "   - Establish mechanisms for ongoing assessment of AI systems to identify and address unintended consequences, biases, and inequities.\n",
       "   - Encourage adaptive governance that can evolve with technological advancements, allowing regulations and guidelines to be updated as new ethical challenges arise.\n",
       "\n",
       "7. **Collaboration Between Public and Private Sectors**:\n",
       "   - Foster partnerships between government, academia, and industry to align interests and share best practices in responsible AI development.\n",
       "   - Create initiatives that focus on ethical AI as a competitive advantage in economic growth while prioritizing societal welfare.\n",
       "\n",
       "8. **Transparency and Accountability**:\n",
       "   - Promote transparency in AI algorithms and decision-making processes to build trust and allow for scrutiny of AI systems.\n",
       "   - Implement accountability measures for organizations that deploy AI, ensuring they can be held responsible for the impacts of their technologies.\n",
       "\n",
       "9. **Public Awareness and Education**:\n",
       "   - Facilitate public education campaigns that inform citizens about AI technologies, their benefits, risks, and ethical considerations.\n",
       "   - Encourage discussions about the implications of AI in various sectors, allowing for informed community engagement and advocacy.\n",
       "\n",
       "By integrating these strategies, societies can navigate the complex landscape of AI advancements, fostering innovation and economic growth while ensuring ethical considerations and equitable access are at the forefront of development."
      ],
      "text/plain": [
       "<IPython.core.display.Markdown object>"
      ]
     },
     "metadata": {},
     "output_type": "display_data"
    }
   ],
   "source": [
    "# The API we know well\n",
    "\n",
    "model_name = \"gpt-4o-mini\"\n",
    "\n",
    "response = openai.chat.completions.create(model=model_name, messages=messages)\n",
    "answer = response.choices[0].message.content\n",
    "\n",
    "display(Markdown(answer))\n",
    "teammates.append(model_name)\n",
    "answers.append(answer)"
   ]
  },
  {
   "cell_type": "code",
   "execution_count": null,
   "metadata": {},
   "outputs": [],
   "source": [
    "# Anthropic has a slightly different API, and Max Tokens is required\n",
    "\n",
    "model_name = \"claude-3-7-sonnet-latest\"\n",
    "\n",
    "claude = Anthropic()\n",
    "response = claude.messages.create(model=model_name, messages=messages, max_tokens=1000)\n",
    "answer = response.content[0].text\n",
    "\n",
    "display(Markdown(answer))\n",
    "teammates.append(model_name)\n",
    "answers.append(answer)"
   ]
  },
  {
   "cell_type": "code",
   "execution_count": null,
   "metadata": {},
   "outputs": [],
   "source": [
    "gemini = OpenAI(api_key=google_api_key, base_url=\"https://generativelanguage.googleapis.com/v1beta/openai/\")\n",
    "model_name = \"gemini-2.0-flash\"\n",
    "\n",
    "response = gemini.chat.completions.create(model=model_name, messages=messages)\n",
    "answer = response.choices[0].message.content\n",
    "\n",
    "display(Markdown(answer))\n",
    "teammates.append(model_name)\n",
    "answers.append(answer)"
   ]
  },
  {
   "cell_type": "code",
   "execution_count": null,
   "metadata": {},
   "outputs": [],
   "source": [
    "deepseek = OpenAI(api_key=deepseek_api_key, base_url=\"https://api.deepseek.com/v1\")\n",
    "model_name = \"deepseek-chat\"\n",
    "\n",
    "response = deepseek.chat.completions.create(model=model_name, messages=messages)\n",
    "answer = response.choices[0].message.content\n",
    "\n",
    "display(Markdown(answer))\n",
    "teammates.append(model_name)\n",
    "answers.append(answer)"
   ]
  },
  {
   "cell_type": "code",
   "execution_count": null,
   "metadata": {},
   "outputs": [],
   "source": [
    "groq = OpenAI(api_key=groq_api_key, base_url=\"https://api.groq.com/openai/v1\")\n",
    "model_name = \"llama-3.3-70b-versatile\"\n",
    "\n",
    "response = groq.chat.completions.create(model=model_name, messages=messages)\n",
    "answer = response.choices[0].message.content\n",
    "\n",
    "display(Markdown(answer))\n",
    "teammates.append(model_name)\n",
    "answers.append(answer)"
   ]
  },
  {
   "cell_type": "code",
   "execution_count": 9,
   "metadata": {},
   "outputs": [
    {
     "name": "stdout",
     "output_type": "stream",
     "text": [
      "['gpt-4o-mini']\n",
      "['Balancing the ethical implications of AI advancements with innovation and economic growth, while ensuring equitable access and minimizing potential harms, requires a multifaceted approach. Here are several strategies that societies can adopt:\\n\\n1. **Framework for Ethical AI Development**:\\n   - Establish clear ethical guidelines and frameworks for the development and deployment of AI technologies. This includes principles such as fairness, transparency, accountability, and respect for privacy.\\n   - Encourage the involvement of ethicists, social scientists, and diverse stakeholders in the design and implementation of AI systems to ensure a variety of perspectives and values are considered.\\n\\n2. **Inclusive Stakeholder Engagement**:\\n   - Create forums for public dialogue that include voices from various demographics, including marginalized communities, to ensure that AI advancements meet the needs of all citizens.\\n   - Involve interdisciplinary teams in AI development, capturing insights from fields such as sociology, psychology, and law to guide ethical considerations.\\n\\n3. **Regulatory Frameworks and Policies**:\\n   - Develop effective regulations and compliance mechanisms that hold companies accountable for the ethical implications of their AI technologies without stifling innovation.\\n   - Implement policy measures that promote responsible AI use, such as data protection laws and guidelines for ethical AI design.\\n\\n4. **Equitable Access and Inclusion**:\\n   - Ensure that AI technology is accessible to all segments of society, including small businesses, nonprofits, and underserved communities, to prevent widening the digital divide.\\n   - Promote digital literacy programs to equip individuals with the skills needed to interact with AI technologies effectively.\\n\\n5. **Investment in Research and Development**:\\n   - Encourage investments in R&D focused on ethical AI, including projects that explore societal impacts and applications that benefit the public good.\\n   - Allocate funding for academic and non-profit organizations that prioritize research into the societal impacts of AI technologies and seek to develop equitable solutions.\\n\\n6. **Continuous Monitoring and Adaptation**:\\n   - Establish mechanisms for ongoing assessment of AI systems to identify and address unintended consequences, biases, and inequities.\\n   - Encourage adaptive governance that can evolve with technological advancements, allowing regulations and guidelines to be updated as new ethical challenges arise.\\n\\n7. **Collaboration Between Public and Private Sectors**:\\n   - Foster partnerships between government, academia, and industry to align interests and share best practices in responsible AI development.\\n   - Create initiatives that focus on ethical AI as a competitive advantage in economic growth while prioritizing societal welfare.\\n\\n8. **Transparency and Accountability**:\\n   - Promote transparency in AI algorithms and decision-making processes to build trust and allow for scrutiny of AI systems.\\n   - Implement accountability measures for organizations that deploy AI, ensuring they can be held responsible for the impacts of their technologies.\\n\\n9. **Public Awareness and Education**:\\n   - Facilitate public education campaigns that inform citizens about AI technologies, their benefits, risks, and ethical considerations.\\n   - Encourage discussions about the implications of AI in various sectors, allowing for informed community engagement and advocacy.\\n\\nBy integrating these strategies, societies can navigate the complex landscape of AI advancements, fostering innovation and economic growth while ensuring ethical considerations and equitable access are at the forefront of development.']\n"
     ]
    }
   ],
   "source": [
    "# So where are we?\n",
    "\n",
    "print(teammates)\n",
    "print(answers)"
   ]
  },
  {
   "cell_type": "code",
   "execution_count": 10,
   "metadata": {},
   "outputs": [
    {
     "name": "stdout",
     "output_type": "stream",
     "text": [
      "Teammate: gpt-4o-mini\n",
      "\n",
      "Balancing the ethical implications of AI advancements with innovation and economic growth, while ensuring equitable access and minimizing potential harms, requires a multifaceted approach. Here are several strategies that societies can adopt:\n",
      "\n",
      "1. **Framework for Ethical AI Development**:\n",
      "   - Establish clear ethical guidelines and frameworks for the development and deployment of AI technologies. This includes principles such as fairness, transparency, accountability, and respect for privacy.\n",
      "   - Encourage the involvement of ethicists, social scientists, and diverse stakeholders in the design and implementation of AI systems to ensure a variety of perspectives and values are considered.\n",
      "\n",
      "2. **Inclusive Stakeholder Engagement**:\n",
      "   - Create forums for public dialogue that include voices from various demographics, including marginalized communities, to ensure that AI advancements meet the needs of all citizens.\n",
      "   - Involve interdisciplinary teams in AI development, capturing insights from fields such as sociology, psychology, and law to guide ethical considerations.\n",
      "\n",
      "3. **Regulatory Frameworks and Policies**:\n",
      "   - Develop effective regulations and compliance mechanisms that hold companies accountable for the ethical implications of their AI technologies without stifling innovation.\n",
      "   - Implement policy measures that promote responsible AI use, such as data protection laws and guidelines for ethical AI design.\n",
      "\n",
      "4. **Equitable Access and Inclusion**:\n",
      "   - Ensure that AI technology is accessible to all segments of society, including small businesses, nonprofits, and underserved communities, to prevent widening the digital divide.\n",
      "   - Promote digital literacy programs to equip individuals with the skills needed to interact with AI technologies effectively.\n",
      "\n",
      "5. **Investment in Research and Development**:\n",
      "   - Encourage investments in R&D focused on ethical AI, including projects that explore societal impacts and applications that benefit the public good.\n",
      "   - Allocate funding for academic and non-profit organizations that prioritize research into the societal impacts of AI technologies and seek to develop equitable solutions.\n",
      "\n",
      "6. **Continuous Monitoring and Adaptation**:\n",
      "   - Establish mechanisms for ongoing assessment of AI systems to identify and address unintended consequences, biases, and inequities.\n",
      "   - Encourage adaptive governance that can evolve with technological advancements, allowing regulations and guidelines to be updated as new ethical challenges arise.\n",
      "\n",
      "7. **Collaboration Between Public and Private Sectors**:\n",
      "   - Foster partnerships between government, academia, and industry to align interests and share best practices in responsible AI development.\n",
      "   - Create initiatives that focus on ethical AI as a competitive advantage in economic growth while prioritizing societal welfare.\n",
      "\n",
      "8. **Transparency and Accountability**:\n",
      "   - Promote transparency in AI algorithms and decision-making processes to build trust and allow for scrutiny of AI systems.\n",
      "   - Implement accountability measures for organizations that deploy AI, ensuring they can be held responsible for the impacts of their technologies.\n",
      "\n",
      "9. **Public Awareness and Education**:\n",
      "   - Facilitate public education campaigns that inform citizens about AI technologies, their benefits, risks, and ethical considerations.\n",
      "   - Encourage discussions about the implications of AI in various sectors, allowing for informed community engagement and advocacy.\n",
      "\n",
      "By integrating these strategies, societies can navigate the complex landscape of AI advancements, fostering innovation and economic growth while ensuring ethical considerations and equitable access are at the forefront of development.\n"
     ]
    }
   ],
   "source": [
    "# It's nice to know how to use \"zip\"\n",
    "for teammate, answer in zip(teammates, answers):\n",
    "    print(f\"Teammate: {teammate}\\n\\n{answer}\")"
   ]
  },
  {
   "cell_type": "code",
   "execution_count": 23,
   "metadata": {},
   "outputs": [],
   "source": [
    "# Let's bring this together - note the use of \"enumerate\"\n",
    "\n",
    "together = \"\"\n",
    "for index, answer in enumerate(answers):\n",
    "    together += f\"# Response from teammate {index+1}\\n\\n\"\n",
    "    together += answer + \"\\n\\n\""
   ]
  },
  {
   "cell_type": "code",
   "execution_count": null,
   "metadata": {},
   "outputs": [],
   "source": [
    "print(together)"
   ]
  },
  {
   "cell_type": "code",
   "execution_count": 36,
   "metadata": {},
   "outputs": [],
   "source": [
    "formatter = f\"\"\"You are taking the nost interesting ideas fron  {len(teammates)} teammates.\n",
    "Each model has been given this question:\n",
    "\n",
    "{question}\n",
    "\n",
    "Your job is to evaluate each response for clarity and strength of argument, select the most relevant ideas and make a report, including a title, subtitles to separate sections, and quoting the LLM providing the idea.\n",
    "From that, you will create a new improved answer.\"\"\""
   ]
  },
  {
   "cell_type": "code",
   "execution_count": null,
   "metadata": {},
   "outputs": [],
   "source": [
    "print(formatter)"
   ]
  },
  {
   "cell_type": "code",
   "execution_count": 38,
   "metadata": {},
   "outputs": [],
   "source": [
    "formatter_messages = [{\"role\": \"user\", \"content\": formatter}]"
   ]
  },
  {
   "cell_type": "code",
   "execution_count": null,
   "metadata": {},
   "outputs": [],
   "source": [
    "openai = OpenAI()\n",
    "response = openai.chat.completions.create(\n",
    "    model=\"o3-mini\",\n",
    "    messages=formatter_messages,\n",
    ")\n",
    "results = response.choices[0].message.content\n",
    "display(Markdown(results))"
   ]
  },
  {
   "cell_type": "code",
   "execution_count": null,
   "metadata": {},
   "outputs": [],
   "source": []
  }
 ],
 "metadata": {
  "kernelspec": {
   "display_name": ".venv",
   "language": "python",
   "name": "python3"
  },
  "language_info": {
   "codemirror_mode": {
    "name": "ipython",
    "version": 3
   },
   "file_extension": ".py",
   "mimetype": "text/x-python",
   "name": "python",
   "nbconvert_exporter": "python",
   "pygments_lexer": "ipython3",
   "version": "3.12.8"
  }
 },
 "nbformat": 4,
 "nbformat_minor": 2
}
